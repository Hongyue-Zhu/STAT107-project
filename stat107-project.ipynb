{
 "cells": [
  {
   "cell_type": "markdown",
   "id": "removed-thirty",
   "metadata": {},
   "source": [
    "# Simulation - Methods of Computing Confidence Interval\n",
    "\n",
    "Hongyue Zhu\n",
    "\n",
    "***"
   ]
  },
  {
   "cell_type": "markdown",
   "id": "least-certificate",
   "metadata": {},
   "source": [
    "## Dataset\n",
    "\n",
    "The target dataset for this project records STAT 107 students’ average daily coffee consumption (in oz).\n",
    "- Load the dataset and store it in a variable named `coffee`:"
   ]
  },
  {
   "cell_type": "code",
   "execution_count": 1,
   "id": "moved-license",
   "metadata": {},
   "outputs": [],
   "source": [
    "import pandas as pd\n",
    "coffee = pd.read_csv(\"https://stat107.hknguyen.org/files/datasets/coffee.csv\")"
   ]
  },
  {
   "cell_type": "markdown",
   "id": "swiss-athletics",
   "metadata": {},
   "source": [
    "***\n",
    "\n",
    "## 1. Sampling"
   ]
  },
  {
   "cell_type": "markdown",
   "id": "mineral-aruba",
   "metadata": {},
   "source": [
    "- Get a sample without replacement of size 40 and store it in a variable named `my_sample`:"
   ]
  },
  {
   "cell_type": "code",
   "execution_count": 2,
   "id": "surgical-borough",
   "metadata": {},
   "outputs": [],
   "source": [
    "import random\n",
    "random.seed(676186785)\n",
    "my_sample = random.sample(list(coffee[\"coffee\"]),k=40)"
   ]
  },
  {
   "cell_type": "markdown",
   "id": "expressed-auditor",
   "metadata": {},
   "source": [
    "***\n",
    "\n",
    "## 2. Confidence Interval Using Mathematical Statistics\n",
    "\n",
    "Our goal is to use the mathematical formula to compute a 95% confidence interval for the true proportion of STAT 107 students who drink over 8 oz of coffee daily on average based on the sample we obtained.\n",
    "\n",
    "- First calculate `p_hat`, the sample proportion of students who drink over 8 oz of coffee daily on average:"
   ]
  },
  {
   "cell_type": "code",
   "execution_count": 3,
   "id": "gross-conflict",
   "metadata": {},
   "outputs": [],
   "source": [
    "import numpy as np\n",
    "p_hat = np.mean(np.array(my_sample) > 8)"
   ]
  },
  {
   "cell_type": "markdown",
   "id": "intermediate-meeting",
   "metadata": {},
   "source": [
    "- Then use the formula to calculate the lower and upper bound of a 95% confidence interval:"
   ]
  },
  {
   "cell_type": "code",
   "execution_count": 4,
   "id": "processed-slovakia",
   "metadata": {},
   "outputs": [
    {
     "data": {
      "text/plain": [
       "-0.006624323226237988"
      ]
     },
     "execution_count": 4,
     "metadata": {},
     "output_type": "execute_result"
    }
   ],
   "source": [
    "from scipy.stats import norm\n",
    "p_hat - norm.ppf(1-0.05/2)*(p_hat*(1-p_hat)/40)**0.5"
   ]
  },
  {
   "cell_type": "code",
   "execution_count": 5,
   "id": "practical-identification",
   "metadata": {},
   "outputs": [
    {
     "data": {
      "text/plain": [
       "0.15662432322623798"
      ]
     },
     "execution_count": 5,
     "metadata": {},
     "output_type": "execute_result"
    }
   ],
   "source": [
    "p_hat + norm.ppf(1-0.05/2)*(p_hat*(1-p_hat)/40)**0.5"
   ]
  },
  {
   "cell_type": "markdown",
   "id": "collected-optimization",
   "metadata": {},
   "source": [
    "A 95% CI for the population proportion is (-0.0066, 0.1566), which is the same as (0, 0.1566).\n",
    "\n",
    "It means that if we take many samples of the same size and each compute a 95% CI for population proportion, about 95% of the CIs will contain the true proportion of STAT 107 students who drink over 8 oz of coffee daily on average.\n",
    "\n",
    "- Now we compute the true population proportion and check whether it is covered by the CI we have:"
   ]
  },
  {
   "cell_type": "code",
   "execution_count": 6,
   "id": "center-poetry",
   "metadata": {},
   "outputs": [
    {
     "data": {
      "text/plain": [
       "0.08333333333333333"
      ]
     },
     "execution_count": 6,
     "metadata": {},
     "output_type": "execute_result"
    }
   ],
   "source": [
    "true_prop = np.mean(np.array(coffee) > 8)\n",
    "true_prop"
   ]
  },
  {
   "cell_type": "markdown",
   "id": "shaped-conditions",
   "metadata": {},
   "source": [
    "Yes, (0, 0.1566) includes 0.0833, so the CI we computed covers the true population proportion of STAT 107 students who drink over 8 oz of coffee daily on average.\n",
    "\n",
    "***\n",
    "\n",
    "## 3. Confidence Interval Using Bootstrapping\n",
    "\n",
    "Our goal is still to compute a 95% confidence interval for the true proportion of STAT 107 students who drink over 8 oz of coffee daily on average based on the sample we obtained, but this time use the Bootstrapping method.\n",
    "\n",
    "- Resample from the original sample and compute the new sample proportion of students who drink over 8 oz of coffee daily on average. Repeat this for 5000 times and record each new sample proportion in a list named `sample_props`:"
   ]
  },
  {
   "cell_type": "code",
   "execution_count": 7,
   "id": "prepared-offer",
   "metadata": {},
   "outputs": [],
   "source": [
    "sample_props = []\n",
    "for i in range(5000):\n",
    "    new_sample = random.choices(my_sample, k=len(my_sample))\n",
    "    prop = np.mean(np.array(new_sample) > 8)\n",
    "    sample_props.append(prop)"
   ]
  },
  {
   "cell_type": "markdown",
   "id": "b451e92d",
   "metadata": {},
   "source": [
    "- Then compute the lower and upper bound of a 95% confidence interval:"
   ]
  },
  {
   "cell_type": "code",
   "execution_count": 8,
   "id": "crude-rolling",
   "metadata": {},
   "outputs": [
    {
     "data": {
      "text/plain": [
       "0.0"
      ]
     },
     "execution_count": 8,
     "metadata": {},
     "output_type": "execute_result"
    }
   ],
   "source": [
    "np.quantile(sample_props, q=0.05/2)"
   ]
  },
  {
   "cell_type": "code",
   "execution_count": 9,
   "id": "atomic-river",
   "metadata": {},
   "outputs": [
    {
     "data": {
      "text/plain": [
       "0.175"
      ]
     },
     "execution_count": 9,
     "metadata": {},
     "output_type": "execute_result"
    }
   ],
   "source": [
    "np.quantile(sample_props, q=1-0.05/2)"
   ]
  },
  {
   "cell_type": "markdown",
   "id": "8086218e",
   "metadata": {},
   "source": [
    "A 95% CI for the population proportion is (0, 0.175).\n",
    "\n",
    "It means that if we take many samples of the same size and each compute a 95% CI for population proportion, about 95% of the CIs will contain the true proportion of STAT 107 students who drink over 8 oz of coffee daily on average.\n",
    "\n",
    "- Now check whether the true population proportion is covered by the CI we have:\n",
    "\n",
    "Yes, (0, 0.175) includes 0.0833, so the CI we computed covers the true population proportion of STAT 107 students who drink over 8 oz of coffee daily on average.\n",
    "\n",
    "***\n",
    "\n",
    "## 4. Compare the CI Coverages\n",
    "\n",
    "Let's first compute the CI coverage for the CI computed using mathematical statistics.\n",
    "\n",
    "- Get a sample of 40 from the population and compute a 95% confidence interval for the true proportion of STAT 107 students who drink over 8 oz of coffee daily on average based on the sample. Check whether the computed CI covers the true population proportion. Repeat this for 5000 times and record each result in a boolean list named `coverage_math`:"
   ]
  },
  {
   "cell_type": "code",
   "execution_count": 10,
   "id": "automotive-grass",
   "metadata": {},
   "outputs": [],
   "source": [
    "coverage_math = []\n",
    "for i in range(5000):\n",
    "    sample = random.sample(list(coffee[\"coffee\"]),k=40)\n",
    "    p_hat = np.mean(np.array(sample) > 8)\n",
    "    lb = p_hat - norm.ppf(1-0.05/2)*(p_hat*(1-p_hat)/40)**0.5\n",
    "    ub = p_hat + norm.ppf(1-0.05/2)*(p_hat*(1-p_hat)/40)**0.5\n",
    "    if lb <= true_prop <= ub:\n",
    "        coverage_math.append(True)\n",
    "    else:\n",
    "        coverage_math.append(False)"
   ]
  },
  {
   "cell_type": "markdown",
   "id": "14df4163",
   "metadata": {},
   "source": [
    "- Calculate the proportion of CIs that capture the true proportion:"
   ]
  },
  {
   "cell_type": "code",
   "execution_count": 11,
   "id": "8efbdf43",
   "metadata": {},
   "outputs": [
    {
     "data": {
      "text/plain": [
       "0.886"
      ]
     },
     "execution_count": 11,
     "metadata": {},
     "output_type": "execute_result"
    }
   ],
   "source": [
    "np.mean(coverage_math)"
   ]
  },
  {
   "cell_type": "markdown",
   "id": "98260062",
   "metadata": {},
   "source": [
    "Let's now compute the CI coverage for the CI computed using Bootstrapping.\n",
    "\n",
    "- Similar process: Get a sample of 40 from the population and compute a 95% confidence interval for the true proportion of STAT 107 students who drink over 8 oz of coffee daily on average based on the sample. Check whether the computed CI covers the true population proportion. Repeat this for 5000 times and record each result in a boolean list named `coverage_boot`:"
   ]
  },
  {
   "cell_type": "code",
   "execution_count": 12,
   "id": "f24b7065",
   "metadata": {},
   "outputs": [],
   "source": [
    "coverage_boot = []\n",
    "for i in range(5000):\n",
    "    sample = random.sample(list(coffee[\"coffee\"]),k=40)\n",
    "    sample_props = []\n",
    "    for j in range(5000):\n",
    "        new_sample = random.choices(sample, k=len(sample))\n",
    "        prop = np.mean(np.array(new_sample) > 8)\n",
    "        sample_props.append(prop)\n",
    "    lb = np.quantile(sample_props, q=0.05/2)\n",
    "    ub = np.quantile(sample_props, q=1-0.05/2)\n",
    "    if lb <= true_prop <= ub:\n",
    "        coverage_boot.append(True)\n",
    "    else:\n",
    "        coverage_boot.append(False)"
   ]
  },
  {
   "cell_type": "markdown",
   "id": "e2c49a9c",
   "metadata": {},
   "source": [
    "- Calculate the proportion of CIs that capture the true proportion:"
   ]
  },
  {
   "cell_type": "code",
   "execution_count": 13,
   "id": "b32f4bd4",
   "metadata": {},
   "outputs": [
    {
     "data": {
      "text/plain": [
       "0.8842"
      ]
     },
     "execution_count": 13,
     "metadata": {},
     "output_type": "execute_result"
    }
   ],
   "source": [
    "np.mean(coverage_boot)"
   ]
  },
  {
   "cell_type": "markdown",
   "id": "cfc265fd",
   "metadata": {},
   "source": [
    "**Conclusion**: The CI coverage of both methods are roughly the same (88.6% for the mathematical statistics method and 88.42% for the Bootstrapping method). They are equally ineffective for this data, since they are both much lower than the expected coverage which should be around 95%.\n",
    "\n",
    "**Reasoning for the ineffectiveness**: \n",
    "\n",
    "For the mathematical statistics CI, it assumes the population is normal, but actually it is not.\n",
    "\n",
    "Below is the histgram of the population:"
   ]
  },
  {
   "cell_type": "code",
   "execution_count": 20,
   "id": "6995e74e",
   "metadata": {},
   "outputs": [
    {
     "data": {
      "image/png": "[encoded data removed]",
      "text/plain": [
       "<Figure size 432x288 with 1 Axes>"
      ]
     },
     "metadata": {
      "needs_background": "light"
     },
     "output_type": "display_data"
    }
   ],
   "source": [
    "import matplotlib.pyplot as plt\n",
    "plt.hist(coffee[\"coffee\"])\n",
    "plt.show()"
   ]
  },
  {
   "cell_type": "markdown",
   "id": "c01c8127",
   "metadata": {},
   "source": [
    "We can see that it is not the exact shape of a normal distribution.\n",
    "\n",
    "For the Bootstrapping method, it generally performs better when the distribution of the sample we got is “close” to the population distribution, but actually our sample distribution is very different from the population distribution.\n",
    "\n",
    "Below is the histgram of our sample:"
   ]
  },
  {
   "cell_type": "code",
   "execution_count": 21,
   "id": "20f46742",
   "metadata": {},
   "outputs": [
    {
     "data": {
      "image/png": "[encoded data removed]",
      "text/plain": [
       "<Figure size 432x288 with 1 Axes>"
      ]
     },
     "metadata": {
      "needs_background": "light"
     },
     "output_type": "display_data"
    }
   ],
   "source": [
    "plt.hist(my_sample)\n",
    "plt.show()"
   ]
  },
  {
   "cell_type": "markdown",
   "id": "53c4d107",
   "metadata": {},
   "source": [
    "We can see that our sample distribution has totally different shape compared to our population distribution."
   ]
  }
 ],
 "metadata": {
  "kernelspec": {
   "display_name": "Python 3",
   "language": "python",
   "name": "python3"
  },
  "language_info": {
   "codemirror_mode": {
    "name": "ipython",
    "version": 3
   },
   "file_extension": ".py",
   "mimetype": "text/x-python",
   "name": "python",
   "nbconvert_exporter": "python",
   "pygments_lexer": "ipython3",
   "version": "3.8.5"
  }
 },
 "nbformat": 4,
 "nbformat_minor": 5
}
